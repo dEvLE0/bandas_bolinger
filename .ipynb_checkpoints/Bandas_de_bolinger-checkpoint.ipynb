{
 "cells": [
  {
   "cell_type": "code",
   "execution_count": 2,
   "id": "be084f6d",
   "metadata": {},
   "outputs": [],
   "source": [
    "#imports\n",
    "import yfinance as yf \n",
    "import pandas as pd \n",
    "import numpy as np \n",
    "import plotly.io as pio\n",
    "import plotly.graph_objects as go "
   ]
  },
  {
   "cell_type": "code",
   "execution_count": 3,
   "id": "5b29bf06",
   "metadata": {},
   "outputs": [],
   "source": [
    "#Selecionando ativo (ITUB4) e gerando um DataFrame com a coluna de fechamento (Close)\n",
    "acao = yf.Ticker('ITUB4.SA') \n",
    "data = acao.history(period = '1y')\n",
    "df = data[['Close']] "
   ]
  },
  {
   "cell_type": "code",
   "execution_count": 4,
   "id": "9269ac0e",
   "metadata": {},
   "outputs": [],
   "source": [
    "#Calculando a média móvel \n",
    "mm = df.rolling(window=20).mean() "
   ]
  },
  {
   "cell_type": "code",
   "execution_count": 5,
   "id": "765d38b7",
   "metadata": {},
   "outputs": [
    {
     "data": {
      "text/html": [
       "<div>\n",
       "<style scoped>\n",
       "    .dataframe tbody tr th:only-of-type {\n",
       "        vertical-align: middle;\n",
       "    }\n",
       "\n",
       "    .dataframe tbody tr th {\n",
       "        vertical-align: top;\n",
       "    }\n",
       "\n",
       "    .dataframe thead th {\n",
       "        text-align: right;\n",
       "    }\n",
       "</style>\n",
       "<table border=\"1\" class=\"dataframe\">\n",
       "  <thead>\n",
       "    <tr style=\"text-align: right;\">\n",
       "      <th></th>\n",
       "      <th>Close</th>\n",
       "    </tr>\n",
       "    <tr>\n",
       "      <th>Date</th>\n",
       "      <th></th>\n",
       "    </tr>\n",
       "  </thead>\n",
       "  <tbody>\n",
       "    <tr>\n",
       "      <th>2021-02-08</th>\n",
       "      <td>NaN</td>\n",
       "    </tr>\n",
       "    <tr>\n",
       "      <th>2021-02-09</th>\n",
       "      <td>NaN</td>\n",
       "    </tr>\n",
       "    <tr>\n",
       "      <th>2021-02-10</th>\n",
       "      <td>NaN</td>\n",
       "    </tr>\n",
       "    <tr>\n",
       "      <th>2021-02-11</th>\n",
       "      <td>NaN</td>\n",
       "    </tr>\n",
       "    <tr>\n",
       "      <th>2021-02-12</th>\n",
       "      <td>NaN</td>\n",
       "    </tr>\n",
       "    <tr>\n",
       "      <th>...</th>\n",
       "      <td>...</td>\n",
       "    </tr>\n",
       "    <tr>\n",
       "      <th>2022-02-01</th>\n",
       "      <td>0.633786</td>\n",
       "    </tr>\n",
       "    <tr>\n",
       "      <th>2022-02-02</th>\n",
       "      <td>0.686439</td>\n",
       "    </tr>\n",
       "    <tr>\n",
       "      <th>2022-02-03</th>\n",
       "      <td>0.731886</td>\n",
       "    </tr>\n",
       "    <tr>\n",
       "      <th>2022-02-04</th>\n",
       "      <td>0.769346</td>\n",
       "    </tr>\n",
       "    <tr>\n",
       "      <th>2022-02-07</th>\n",
       "      <td>0.798964</td>\n",
       "    </tr>\n",
       "  </tbody>\n",
       "</table>\n",
       "<p>249 rows × 1 columns</p>\n",
       "</div>"
      ],
      "text/plain": [
       "               Close\n",
       "Date                \n",
       "2021-02-08       NaN\n",
       "2021-02-09       NaN\n",
       "2021-02-10       NaN\n",
       "2021-02-11       NaN\n",
       "2021-02-12       NaN\n",
       "...              ...\n",
       "2022-02-01  0.633786\n",
       "2022-02-02  0.686439\n",
       "2022-02-03  0.731886\n",
       "2022-02-04  0.769346\n",
       "2022-02-07  0.798964\n",
       "\n",
       "[249 rows x 1 columns]"
      ]
     },
     "execution_count": 5,
     "metadata": {},
     "output_type": "execute_result"
    }
   ],
   "source": [
    "#calculando desvio padrão\n",
    "dvp = mm.rolling(window=20).std() \n",
    "dvp"
   ]
  },
  {
   "cell_type": "code",
   "execution_count": 6,
   "id": "97d2a8b1",
   "metadata": {},
   "outputs": [],
   "source": [
    "#calculo da banda superior e inferior \n",
    "bsup = mm + 2* dvp \n",
    "binf = mm - 2* dvp "
   ]
  },
  {
   "cell_type": "code",
   "execution_count": 7,
   "id": "413f0f02",
   "metadata": {},
   "outputs": [],
   "source": [
    "#alterando nome das colunas bsup e binf \n",
    "bsup = bsup.rename(columns = {'Close':'Superior'}) \n",
    "binf = binf.rename(columns = {'Close':'Inferior'}) "
   ]
  },
  {
   "cell_type": "code",
   "execution_count": 8,
   "id": "efe6347b",
   "metadata": {},
   "outputs": [],
   "source": [
    "#unindo colunas\n",
    "bB = df.join(bsup).join(binf) "
   ]
  },
  {
   "cell_type": "code",
   "execution_count": 9,
   "id": "e721d9ef",
   "metadata": {},
   "outputs": [
    {
     "data": {
      "text/html": [
       "<div>\n",
       "<style scoped>\n",
       "    .dataframe tbody tr th:only-of-type {\n",
       "        vertical-align: middle;\n",
       "    }\n",
       "\n",
       "    .dataframe tbody tr th {\n",
       "        vertical-align: top;\n",
       "    }\n",
       "\n",
       "    .dataframe thead th {\n",
       "        text-align: right;\n",
       "    }\n",
       "</style>\n",
       "<table border=\"1\" class=\"dataframe\">\n",
       "  <thead>\n",
       "    <tr style=\"text-align: right;\">\n",
       "      <th></th>\n",
       "      <th>Close</th>\n",
       "      <th>Superior</th>\n",
       "      <th>Inferior</th>\n",
       "    </tr>\n",
       "    <tr>\n",
       "      <th>Date</th>\n",
       "      <th></th>\n",
       "      <th></th>\n",
       "      <th></th>\n",
       "    </tr>\n",
       "  </thead>\n",
       "  <tbody>\n",
       "    <tr>\n",
       "      <th>2021-02-08</th>\n",
       "      <td>26.643003</td>\n",
       "      <td>NaN</td>\n",
       "      <td>NaN</td>\n",
       "    </tr>\n",
       "    <tr>\n",
       "      <th>2021-02-09</th>\n",
       "      <td>26.962021</td>\n",
       "      <td>NaN</td>\n",
       "      <td>NaN</td>\n",
       "    </tr>\n",
       "    <tr>\n",
       "      <th>2021-02-10</th>\n",
       "      <td>26.768684</td>\n",
       "      <td>NaN</td>\n",
       "      <td>NaN</td>\n",
       "    </tr>\n",
       "    <tr>\n",
       "      <th>2021-02-11</th>\n",
       "      <td>26.768684</td>\n",
       "      <td>NaN</td>\n",
       "      <td>NaN</td>\n",
       "    </tr>\n",
       "    <tr>\n",
       "      <th>2021-02-12</th>\n",
       "      <td>26.836348</td>\n",
       "      <td>NaN</td>\n",
       "      <td>NaN</td>\n",
       "    </tr>\n",
       "    <tr>\n",
       "      <th>...</th>\n",
       "      <td>...</td>\n",
       "      <td>...</td>\n",
       "      <td>...</td>\n",
       "    </tr>\n",
       "    <tr>\n",
       "      <th>2022-02-01</th>\n",
       "      <td>25.490000</td>\n",
       "      <td>24.859511</td>\n",
       "      <td>22.324366</td>\n",
       "    </tr>\n",
       "    <tr>\n",
       "      <th>2022-02-02</th>\n",
       "      <td>25.090000</td>\n",
       "      <td>25.135073</td>\n",
       "      <td>22.389316</td>\n",
       "    </tr>\n",
       "    <tr>\n",
       "      <th>2022-02-03</th>\n",
       "      <td>25.379999</td>\n",
       "      <td>25.388739</td>\n",
       "      <td>22.461193</td>\n",
       "    </tr>\n",
       "    <tr>\n",
       "      <th>2022-02-04</th>\n",
       "      <td>25.530001</td>\n",
       "      <td>25.609446</td>\n",
       "      <td>22.532063</td>\n",
       "    </tr>\n",
       "    <tr>\n",
       "      <th>2022-02-07</th>\n",
       "      <td>25.320000</td>\n",
       "      <td>25.793478</td>\n",
       "      <td>22.597622</td>\n",
       "    </tr>\n",
       "  </tbody>\n",
       "</table>\n",
       "<p>249 rows × 3 columns</p>\n",
       "</div>"
      ],
      "text/plain": [
       "                Close   Superior   Inferior\n",
       "Date                                       \n",
       "2021-02-08  26.643003        NaN        NaN\n",
       "2021-02-09  26.962021        NaN        NaN\n",
       "2021-02-10  26.768684        NaN        NaN\n",
       "2021-02-11  26.768684        NaN        NaN\n",
       "2021-02-12  26.836348        NaN        NaN\n",
       "...               ...        ...        ...\n",
       "2022-02-01  25.490000  24.859511  22.324366\n",
       "2022-02-02  25.090000  25.135073  22.389316\n",
       "2022-02-03  25.379999  25.388739  22.461193\n",
       "2022-02-04  25.530001  25.609446  22.532063\n",
       "2022-02-07  25.320000  25.793478  22.597622\n",
       "\n",
       "[249 rows x 3 columns]"
      ]
     },
     "execution_count": 9,
     "metadata": {},
     "output_type": "execute_result"
    }
   ],
   "source": [
    "bB "
   ]
  },
  {
   "cell_type": "code",
   "execution_count": 10,
   "id": "446f0e2c",
   "metadata": {},
   "outputs": [],
   "source": [
    "#removendo valores nulos do DataFrame\n",
    "bB.dropna(inplace=True) "
   ]
  },
  {
   "cell_type": "code",
   "execution_count": 11,
   "id": "5e821c23",
   "metadata": {},
   "outputs": [],
   "source": [
    "#Calculos de entradas e saidas \n",
    "compra = bB[bB['Close'] <= bB['Inferior']]\n",
    "venda = bB[bB['Close'] >= bB['Superior']]"
   ]
  },
  {
   "cell_type": "code",
   "execution_count": null,
   "id": "bc8b222d",
   "metadata": {},
   "outputs": [],
   "source": [
    "#gerando grafico demonstrativo do processamento realizado\n",
    "pio.templates.default = \"plotly_dark\"\n",
    "fig = go.Figure ()\n",
    "fig.add_trace(go.Scatter(x = binf.index,\n",
    "                        y = binf['Inferior'],\n",
    "                        name = 'Banda Inferior',\n",
    "                        line_color = 'rgba(173,204,255,0.2)'))\n",
    "fig.add_trace(go.Scatter(x = bsup.index,\n",
    "                        y = bsup['Superior'],\n",
    "                        name = 'Banda Superior',\n",
    "                        fill = 'tonexty',\n",
    "                        fillcolor = 'rgba(173,204,255,0.2)', \n",
    "                        line_color = 'rgba(173,204,255,0.2)'))\n",
    "fig.add_trace(go.Scatter(x = df.index,\n",
    "                        y = df['Close'],\n",
    "                        name = 'Preço Fechamento',\n",
    "                        line_color = '#636EFA'))\n",
    "fig.add_trace(go.Scatter(x = mm.index,\n",
    "                        y = mm['Close'],\n",
    "                        name = 'Médias Móveis',\n",
    "                        line_color = '#FECB52'))\n",
    "fig.add_trace(go.Scatter(x = compra.index,\n",
    "                        y = compra['Close'],\n",
    "                        name = 'Compra',\n",
    "                        mode = 'markers',\n",
    "                        marker = dict(color = '#00CC96', size = 8)))\n",
    "fig.add_trace(go.Scatter(x = venda.index,\n",
    "                        y = venda['Close'],\n",
    "                        name = 'Venda',\n",
    "                        mode = 'markers',\n",
    "                        marker = dict(color = '#EF5538', size = 8)))\n",
    "fig.show() \n",
    "\n",
    "\n",
    "\n",
    "                       \n",
    "\n"
   ]
  }
 ],
 "metadata": {
  "kernelspec": {
   "display_name": "Python 3",
   "language": "python",
   "name": "python3"
  },
  "language_info": {
   "codemirror_mode": {
    "name": "ipython",
    "version": 3
   },
   "file_extension": ".py",
   "mimetype": "text/x-python",
   "name": "python",
   "nbconvert_exporter": "python",
   "pygments_lexer": "ipython3",
   "version": "3.8.8"
  },
  "varInspector": {
   "cols": {
    "lenName": 16,
    "lenType": 16,
    "lenVar": 40
   },
   "kernels_config": {
    "python": {
     "delete_cmd_postfix": "",
     "delete_cmd_prefix": "del ",
     "library": "var_list.py",
     "varRefreshCmd": "print(var_dic_list())"
    },
    "r": {
     "delete_cmd_postfix": ") ",
     "delete_cmd_prefix": "rm(",
     "library": "var_list.r",
     "varRefreshCmd": "cat(var_dic_list()) "
    }
   },
   "types_to_exclude": [
    "module",
    "function",
    "builtin_function_or_method",
    "instance",
    "_Feature"
   ],
   "window_display": false
  }
 },
 "nbformat": 4,
 "nbformat_minor": 5
}
